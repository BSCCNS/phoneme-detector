{
 "cells": [
  {
   "cell_type": "code",
   "execution_count": 2,
   "id": "2efe3ae4",
   "metadata": {},
   "outputs": [],
   "source": [
    "import pandas as pd\n",
    "import json\n",
    "import numpy as np\n",
    "import glob"
   ]
  },
  {
   "cell_type": "code",
   "execution_count": 3,
   "id": "17d84f2f",
   "metadata": {},
   "outputs": [],
   "source": [
    "files = glob.glob(\"./*.json\")"
   ]
  },
  {
   "cell_type": "code",
   "execution_count": 5,
   "id": "25bcb788",
   "metadata": {},
   "outputs": [
    {
     "data": {
      "text/plain": [
       "['./david-24_05_2024_11_54_31.json',\n",
       " './marc-24_05_2024_12_01_43.json',\n",
       " './paula-24_05_2024_16_30_39.json',\n",
       " './maria-24_05_2024_11_47_38.json',\n",
       " './fer-24_05_2024_16_33_54.json']"
      ]
     },
     "execution_count": 5,
     "metadata": {},
     "output_type": "execute_result"
    }
   ],
   "source": [
    "files"
   ]
  },
  {
   "cell_type": "code",
   "execution_count": 6,
   "id": "a5a65d0f",
   "metadata": {},
   "outputs": [],
   "source": [
    "j = json.load(open(files[0]))"
   ]
  },
  {
   "cell_type": "code",
   "execution_count": 11,
   "id": "73211cb2",
   "metadata": {},
   "outputs": [
    {
     "data": {
      "text/plain": [
       "dict_keys(['inputs', 'outputs', 'name'])"
      ]
     },
     "execution_count": 11,
     "metadata": {},
     "output_type": "execute_result"
    }
   ],
   "source": [
    "j[0].keys()"
   ]
  },
  {
   "cell_type": "code",
   "execution_count": 62,
   "id": "5554c9a2",
   "metadata": {},
   "outputs": [
    {
     "name": "stdout",
     "output_type": "stream",
     "text": [
      "./marc-24_05_2024_12_01_43.json ch\n",
      "new: {'tongue.index': 21.067941665649414, 'tongue.diameter': 2.72188401222229, 'frontConstriction.index': 31.482295989990234, 'frontConstriction.diameter': 0.4663625657558441, 'backConstriction.index': 22.110883712768555, 'backConstriction.diameter': 3.4028234663852886e+38, 'voiceness': 0}\n",
      "old: {'tongue.index': 12.213376998901367, 'tongue.diameter': 2.8788487911224365, 'frontConstriction.index': 35.88129806518555, 'frontConstriction.diameter': -1.2149009704589844, 'backConstriction.index': 22.009140014648438, 'backConstriction.diameter': 3.4028234663852886e+38, 'voiceness': 0.8}\n",
      "./paula-24_05_2024_16_30_39.json ch\n",
      "new: {'tongue.index': 21.067941665649414, 'tongue.diameter': 2.72188401222229, 'frontConstriction.index': 31.482295989990234, 'frontConstriction.diameter': 0.4663625657558441, 'backConstriction.index': 22.110883712768555, 'backConstriction.diameter': 3.4028234663852886e+38, 'voiceness': 0}\n",
      "old: {'tongue.index': 12.213376998901367, 'tongue.diameter': 2.8788487911224365, 'frontConstriction.index': 35.88129806518555, 'frontConstriction.diameter': -1.2149009704589844, 'backConstriction.index': 22.009140014648438, 'backConstriction.diameter': 3.4028234663852886e+38, 'voiceness': 0.8}\n",
      "./fer-24_05_2024_16_33_54.json ch\n",
      "new: {'tongue.index': 21.067941665649414, 'tongue.diameter': 2.72188401222229, 'frontConstriction.index': 31.482295989990234, 'frontConstriction.diameter': 0.4663625657558441, 'backConstriction.index': 22.110883712768555, 'backConstriction.diameter': 3.4028234663852886e+38, 'voiceness': 0}\n",
      "old: {'tongue.index': 12.213376998901367, 'tongue.diameter': 2.8788487911224365, 'frontConstriction.index': 35.88129806518555, 'frontConstriction.diameter': -1.2149009704589844, 'backConstriction.index': 22.009140014648438, 'backConstriction.diameter': 3.4028234663852886e+38, 'voiceness': 0.8}\n"
     ]
    }
   ],
   "source": [
    "J={}\n",
    "for f in files:\n",
    "    j = json.load(open(f))\n",
    "    for n in j:\n",
    "        phon = n['name']\n",
    "        if phon in J:\n",
    "            J[phon]['inputs']=J[phon]['inputs']+n['inputs']\n",
    "            if J[phon]['outputs']!= n['outputs']:\n",
    "                print(f,phon)\n",
    "                print(\"new:\",J[phon]['outputs'])\n",
    "                print(\"old:\",n['outputs'])\n",
    "        else:\n",
    "            J[phon]=n\n",
    "            "
   ]
  },
  {
   "cell_type": "code",
   "execution_count": 63,
   "id": "a21f9e27",
   "metadata": {},
   "outputs": [],
   "source": [
    "Jlist = list(J.values())"
   ]
  },
  {
   "cell_type": "code",
   "execution_count": 27,
   "id": "8f3f08e4",
   "metadata": {},
   "outputs": [],
   "source": [
    "json.dump(Jlist,open(\"../all_people.json\",\"w\"))"
   ]
  },
  {
   "cell_type": "code",
   "execution_count": 44,
   "id": "9fd2fa9d",
   "metadata": {},
   "outputs": [],
   "source": [
    "from sklearn.model_selection import train_test_split"
   ]
  },
  {
   "cell_type": "code",
   "execution_count": 65,
   "id": "bbec57d7",
   "metadata": {},
   "outputs": [],
   "source": [
    "Jtrain = []\n",
    "Jval = []\n",
    "for item in Jlist:\n",
    "    tph = item.copy()\n",
    "    vph = item.copy()\n",
    "    tph['inputs'], vph['inputs'] = train_test_split(item['inputs'], test_size=0.1)\n",
    "    Jtrain.append(tph)\n",
    "    Jval.append(vph)"
   ]
  },
  {
   "cell_type": "code",
   "execution_count": 70,
   "id": "7fdfe5f9",
   "metadata": {},
   "outputs": [],
   "source": [
    "json.dump(Jtrain,open(\"../all_people_TRAIN.json\",\"w\"))\n",
    "json.dump(Jval,open(\"../all_people_VAL.json\",\"w\"))"
   ]
  },
  {
   "cell_type": "markdown",
   "id": "388b274c",
   "metadata": {},
   "source": [
    "# Validation"
   ]
  },
  {
   "cell_type": "code",
   "execution_count": 95,
   "id": "b5997b77",
   "metadata": {},
   "outputs": [],
   "source": [
    "val = json.load(open(\"../validation.json\"))"
   ]
  },
  {
   "cell_type": "code",
   "execution_count": 96,
   "id": "982f1bae",
   "metadata": {},
   "outputs": [],
   "source": [
    "dfval = pd.DataFrame(val)"
   ]
  },
  {
   "cell_type": "code",
   "execution_count": 97,
   "id": "70ab8698",
   "metadata": {},
   "outputs": [],
   "source": [
    "letras = dfval.prediction.apply(pd.Series)\n",
    "letras.columns = sorted(letras.columns)"
   ]
  },
  {
   "cell_type": "code",
   "execution_count": 98,
   "id": "a16c5914",
   "metadata": {},
   "outputs": [],
   "source": [
    "dfval = pd.concat([dfval[[\"phoneme\",\"k\"]].rename(columns={\"k\": \"knn\"}),\n",
    "           letras],axis=1)"
   ]
  },
  {
   "cell_type": "code",
   "execution_count": 100,
   "id": "f27ad986",
   "metadata": {},
   "outputs": [],
   "source": [
    "dfvalMean = dfval.groupby([\"knn\",\"phoneme\"]).mean()"
   ]
  },
  {
   "cell_type": "code",
   "execution_count": 106,
   "id": "b738c5a0",
   "metadata": {},
   "outputs": [],
   "source": [
    "import seaborn as sns\n",
    "import matplotlib.pyplot as plt"
   ]
  },
  {
   "cell_type": "code",
   "execution_count": 119,
   "id": "b1815700",
   "metadata": {},
   "outputs": [
    {
     "data": {
      "image/png": "[encoded data removed]",
      "text/plain": [
       "<Figure size 432x288 with 2 Axes>"
      ]
     },
     "metadata": {
      "needs_background": "light"
     },
     "output_type": "display_data"
    }
   ],
   "source": [
    "for k in [9]:\n",
    "    df = dfvalMean.loc[k]\n",
    "    sns.heatmap(df).set_title(f\"KNN: {k}\")\n",
    "    plt.plot()"
   ]
  },
  {
   "cell_type": "code",
   "execution_count": 113,
   "id": "05b90f66",
   "metadata": {},
   "outputs": [
    {
     "data": {
      "text/plain": [
       "array([ 2,  3,  4,  5,  6,  7,  8,  9, 10, 11, 12, 13, 14, 15, 16, 17])"
      ]
     },
     "execution_count": 113,
     "metadata": {},
     "output_type": "execute_result"
    }
   ],
   "source": [
    "dfval.knn.unique()"
   ]
  },
  {
   "cell_type": "code",
   "execution_count": null,
   "id": "09c18d22",
   "metadata": {},
   "outputs": [],
   "source": []
  }
 ],
 "metadata": {
  "kernelspec": {
   "display_name": "Python 3",
   "language": "python",
   "name": "python3"
  },
  "language_info": {
   "codemirror_mode": {
    "name": "ipython",
    "version": 3
   },
   "file_extension": ".py",
   "mimetype": "text/x-python",
   "name": "python",
   "nbconvert_exporter": "python",
   "pygments_lexer": "ipython3",
   "version": "3.9.2"
  }
 },
 "nbformat": 4,
 "nbformat_minor": 5
}
