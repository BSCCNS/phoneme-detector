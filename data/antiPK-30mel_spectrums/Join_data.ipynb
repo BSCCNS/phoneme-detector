{
 "cells": [
  {
   "cell_type": "code",
   "execution_count": 2,
   "id": "2efe3ae4",
   "metadata": {},
   "outputs": [],
   "source": [
    "import pandas as pd\n",
    "import json\n",
    "import numpy as np\n",
    "import glob"
   ]
  },
  {
   "cell_type": "code",
   "execution_count": 132,
   "id": "7cc2ab9d",
   "metadata": {},
   "outputs": [],
   "source": [
    "pd.options.display.max_rows=20000"
   ]
  },
  {
   "cell_type": "code",
   "execution_count": 3,
   "id": "17d84f2f",
   "metadata": {},
   "outputs": [],
   "source": [
    "files = glob.glob(\"./*.json\")"
   ]
  },
  {
   "cell_type": "code",
   "execution_count": 5,
   "id": "25bcb788",
   "metadata": {},
   "outputs": [
    {
     "data": {
      "text/plain": [
       "['./david-24_05_2024_11_54_31.json',\n",
       " './marc-24_05_2024_12_01_43.json',\n",
       " './paula-24_05_2024_16_30_39.json',\n",
       " './maria-24_05_2024_11_47_38.json',\n",
       " './fer-24_05_2024_16_33_54.json']"
      ]
     },
     "execution_count": 5,
     "metadata": {},
     "output_type": "execute_result"
    }
   ],
   "source": [
    "files"
   ]
  },
  {
   "cell_type": "code",
   "execution_count": 6,
   "id": "a5a65d0f",
   "metadata": {},
   "outputs": [],
   "source": [
    "j = json.load(open(files[0]))"
   ]
  },
  {
   "cell_type": "code",
   "execution_count": 11,
   "id": "73211cb2",
   "metadata": {},
   "outputs": [
    {
     "data": {
      "text/plain": [
       "dict_keys(['inputs', 'outputs', 'name'])"
      ]
     },
     "execution_count": 11,
     "metadata": {},
     "output_type": "execute_result"
    }
   ],
   "source": [
    "j[0].keys()"
   ]
  },
  {
   "cell_type": "code",
   "execution_count": 62,
   "id": "5554c9a2",
   "metadata": {},
   "outputs": [
    {
     "name": "stdout",
     "output_type": "stream",
     "text": [
      "./marc-24_05_2024_12_01_43.json ch\n",
      "new: {'tongue.index': 21.067941665649414, 'tongue.diameter': 2.72188401222229, 'frontConstriction.index': 31.482295989990234, 'frontConstriction.diameter': 0.4663625657558441, 'backConstriction.index': 22.110883712768555, 'backConstriction.diameter': 3.4028234663852886e+38, 'voiceness': 0}\n",
      "old: {'tongue.index': 12.213376998901367, 'tongue.diameter': 2.8788487911224365, 'frontConstriction.index': 35.88129806518555, 'frontConstriction.diameter': -1.2149009704589844, 'backConstriction.index': 22.009140014648438, 'backConstriction.diameter': 3.4028234663852886e+38, 'voiceness': 0.8}\n",
      "./paula-24_05_2024_16_30_39.json ch\n",
      "new: {'tongue.index': 21.067941665649414, 'tongue.diameter': 2.72188401222229, 'frontConstriction.index': 31.482295989990234, 'frontConstriction.diameter': 0.4663625657558441, 'backConstriction.index': 22.110883712768555, 'backConstriction.diameter': 3.4028234663852886e+38, 'voiceness': 0}\n",
      "old: {'tongue.index': 12.213376998901367, 'tongue.diameter': 2.8788487911224365, 'frontConstriction.index': 35.88129806518555, 'frontConstriction.diameter': -1.2149009704589844, 'backConstriction.index': 22.009140014648438, 'backConstriction.diameter': 3.4028234663852886e+38, 'voiceness': 0.8}\n",
      "./fer-24_05_2024_16_33_54.json ch\n",
      "new: {'tongue.index': 21.067941665649414, 'tongue.diameter': 2.72188401222229, 'frontConstriction.index': 31.482295989990234, 'frontConstriction.diameter': 0.4663625657558441, 'backConstriction.index': 22.110883712768555, 'backConstriction.diameter': 3.4028234663852886e+38, 'voiceness': 0}\n",
      "old: {'tongue.index': 12.213376998901367, 'tongue.diameter': 2.8788487911224365, 'frontConstriction.index': 35.88129806518555, 'frontConstriction.diameter': -1.2149009704589844, 'backConstriction.index': 22.009140014648438, 'backConstriction.diameter': 3.4028234663852886e+38, 'voiceness': 0.8}\n"
     ]
    }
   ],
   "source": [
    "J={}\n",
    "for f in files:\n",
    "    j = json.load(open(f))\n",
    "    for n in j:\n",
    "        phon = n['name']\n",
    "        if phon in J:\n",
    "            J[phon]['inputs']=J[phon]['inputs']+n['inputs']\n",
    "            if J[phon]['outputs']!= n['outputs']:\n",
    "                print(f,phon)\n",
    "                print(\"new:\",J[phon]['outputs'])\n",
    "                print(\"old:\",n['outputs'])\n",
    "        else:\n",
    "            J[phon]=n\n",
    "            "
   ]
  },
  {
   "cell_type": "code",
   "execution_count": 63,
   "id": "a21f9e27",
   "metadata": {},
   "outputs": [],
   "source": [
    "Jlist = list(J.values())"
   ]
  },
  {
   "cell_type": "code",
   "execution_count": 27,
   "id": "8f3f08e4",
   "metadata": {},
   "outputs": [],
   "source": [
    "json.dump(Jlist,open(\"../all_people.json\",\"w\"))"
   ]
  },
  {
   "cell_type": "code",
   "execution_count": 44,
   "id": "9fd2fa9d",
   "metadata": {},
   "outputs": [],
   "source": [
    "from sklearn.model_selection import train_test_split"
   ]
  },
  {
   "cell_type": "code",
   "execution_count": 65,
   "id": "bbec57d7",
   "metadata": {},
   "outputs": [],
   "source": [
    "Jtrain = []\n",
    "Jval = []\n",
    "for item in Jlist:\n",
    "    tph = item.copy()\n",
    "    vph = item.copy()\n",
    "    tph['inputs'], vph['inputs'] = train_test_split(item['inputs'], test_size=0.1)\n",
    "    Jtrain.append(tph)\n",
    "    Jval.append(vph)"
   ]
  },
  {
   "cell_type": "code",
   "execution_count": 70,
   "id": "7fdfe5f9",
   "metadata": {},
   "outputs": [],
   "source": [
    "json.dump(Jtrain,open(\"../all_people_TRAIN.json\",\"w\"))\n",
    "json.dump(Jval,open(\"../all_people_VAL.json\",\"w\"))"
   ]
  },
  {
   "cell_type": "markdown",
   "id": "8dda6a90",
   "metadata": {},
   "source": [
    "# Validation"
   ]
  },
  {
   "cell_type": "code",
   "execution_count": 157,
   "id": "b5997b77",
   "metadata": {},
   "outputs": [],
   "source": [
    "val = json.load(open(\"../validation.json\"))"
   ]
  },
  {
   "cell_type": "code",
   "execution_count": 158,
   "id": "982f1bae",
   "metadata": {},
   "outputs": [],
   "source": [
    "dfval = pd.DataFrame(val)\n",
    "dfval = dfval.rename(columns={\"k\":\"knn\"})"
   ]
  },
  {
   "cell_type": "code",
   "execution_count": 159,
   "id": "06775201",
   "metadata": {},
   "outputs": [],
   "source": [
    "dfpred = dfval.copy()\n",
    "dfpred.prediction = dfval.prediction.apply( lambda y: max(y, key=y.get))\n",
    "dfpred['ok']=(dfpred.prediction==dfpred.phoneme)"
   ]
  },
  {
   "cell_type": "code",
   "execution_count": 167,
   "id": "9524e1b3",
   "metadata": {},
   "outputs": [
    {
     "data": {
      "text/plain": [
       "<AxesSubplot:xlabel='knn', ylabel='ok'>"
      ]
     },
     "execution_count": 167,
     "metadata": {},
     "output_type": "execute_result"
    },
    {
     "data": {
      "image/png": "[encoded data removed]",
      "text/plain": [
       "<Figure size 432x288 with 1 Axes>"
      ]
     },
     "metadata": {
      "needs_background": "light"
     },
     "output_type": "display_data"
    }
   ],
   "source": [
    "accuracy = dfpred.groupby([\"knn\",\"phoneme\"]).ok.mean().reset_index()\n",
    "sns.lineplot(x='knn', y='ok', hue='phoneme',data=accuracy)"
   ]
  },
  {
   "cell_type": "code",
   "execution_count": 136,
   "id": "228c18b4",
   "metadata": {},
   "outputs": [],
   "source": [
    "letras = dfval.prediction.apply(pd.Series)\n",
    "L = sorted(letras.columns)\n",
    "letras = letras[L]"
   ]
  },
  {
   "cell_type": "code",
   "execution_count": 137,
   "id": "67974b6f",
   "metadata": {},
   "outputs": [],
   "source": [
    "dfval = pd.concat([dfval[[\"phoneme\",\"k\"]].rename(columns={\"k\": \"knn\"}),\n",
    "           letras],axis=1)"
   ]
  },
  {
   "cell_type": "code",
   "execution_count": 138,
   "id": "c24b2b42",
   "metadata": {},
   "outputs": [],
   "source": [
    "dfvalMean = dfval.groupby([\"knn\",\"phoneme\"]).mean().reset_index()"
   ]
  },
  {
   "cell_type": "code",
   "execution_count": 139,
   "id": "ed831b1b",
   "metadata": {},
   "outputs": [],
   "source": [
    "import seaborn as sns\n",
    "import matplotlib.pyplot as plt"
   ]
  },
  {
   "cell_type": "code",
   "execution_count": 141,
   "id": "729c105d",
   "metadata": {},
   "outputs": [],
   "source": [
    "def get_matrix(k):\n",
    "    return dfvalMean.loc[dfvalMean[\"knn\"]==k].drop(columns=\"knn\").set_index(\"phoneme\")"
   ]
  },
  {
   "cell_type": "code",
   "execution_count": 147,
   "id": "d39acdcc",
   "metadata": {},
   "outputs": [
    {
     "data": {
      "text/plain": [
       "<matplotlib.image.AxesImage at 0x17c075c70>"
      ]
     },
     "execution_count": 147,
     "metadata": {},
     "output_type": "execute_result"
    },
    {
     "data": {
      "image/png": "[encoded data removed]",
      "text/plain": [
       "<Figure size 288x288 with 1 Axes>"
      ]
     },
     "metadata": {
      "needs_background": "light"
     },
     "output_type": "display_data"
    }
   ],
   "source": [
    "plt.matshow(get_matrix(3))"
   ]
  },
  {
   "cell_type": "code",
   "execution_count": 144,
   "id": "850fee07",
   "metadata": {},
   "outputs": [
    {
     "data": {
      "text/html": [
       "<div>\n",
       "<style scoped>\n",
       "    .dataframe tbody tr th:only-of-type {\n",
       "        vertical-align: middle;\n",
       "    }\n",
       "\n",
       "    .dataframe tbody tr th {\n",
       "        vertical-align: top;\n",
       "    }\n",
       "\n",
       "    .dataframe thead th {\n",
       "        text-align: right;\n",
       "    }\n",
       "</style>\n",
       "<table border=\"1\" class=\"dataframe\">\n",
       "  <thead>\n",
       "    <tr style=\"text-align: right;\">\n",
       "      <th></th>\n",
       "      <th>a</th>\n",
       "      <th>b</th>\n",
       "      <th>ch</th>\n",
       "      <th>d</th>\n",
       "      <th>e</th>\n",
       "      <th>i</th>\n",
       "      <th>k</th>\n",
       "      <th>l</th>\n",
       "      <th>m</th>\n",
       "      <th>n</th>\n",
       "      <th>o</th>\n",
       "      <th>p</th>\n",
       "      <th>r</th>\n",
       "      <th>s</th>\n",
       "      <th>u</th>\n",
       "      <th>ñ</th>\n",
       "      <th>θ</th>\n",
       "    </tr>\n",
       "    <tr>\n",
       "      <th>phoneme</th>\n",
       "      <th></th>\n",
       "      <th></th>\n",
       "      <th></th>\n",
       "      <th></th>\n",
       "      <th></th>\n",
       "      <th></th>\n",
       "      <th></th>\n",
       "      <th></th>\n",
       "      <th></th>\n",
       "      <th></th>\n",
       "      <th></th>\n",
       "      <th></th>\n",
       "      <th></th>\n",
       "      <th></th>\n",
       "      <th></th>\n",
       "      <th></th>\n",
       "      <th></th>\n",
       "    </tr>\n",
       "  </thead>\n",
       "  <tbody>\n",
       "    <tr>\n",
       "      <th>a</th>\n",
       "      <td>0.972941</td>\n",
       "      <td>0.000000</td>\n",
       "      <td>0.001176</td>\n",
       "      <td>0.000000</td>\n",
       "      <td>0.000000</td>\n",
       "      <td>0.000000</td>\n",
       "      <td>0.004706</td>\n",
       "      <td>0.002353</td>\n",
       "      <td>0.000000</td>\n",
       "      <td>0.000000</td>\n",
       "      <td>0.000000</td>\n",
       "      <td>0.001176</td>\n",
       "      <td>0.001176</td>\n",
       "      <td>0.000000</td>\n",
       "      <td>0.010588</td>\n",
       "      <td>0.000000</td>\n",
       "      <td>0.005882</td>\n",
       "    </tr>\n",
       "    <tr>\n",
       "      <th>b</th>\n",
       "      <td>0.000000</td>\n",
       "      <td>0.403529</td>\n",
       "      <td>0.024706</td>\n",
       "      <td>0.125882</td>\n",
       "      <td>0.025882</td>\n",
       "      <td>0.012941</td>\n",
       "      <td>0.022353</td>\n",
       "      <td>0.074118</td>\n",
       "      <td>0.025882</td>\n",
       "      <td>0.031765</td>\n",
       "      <td>0.014118</td>\n",
       "      <td>0.041176</td>\n",
       "      <td>0.040000</td>\n",
       "      <td>0.016471</td>\n",
       "      <td>0.008235</td>\n",
       "      <td>0.011765</td>\n",
       "      <td>0.121176</td>\n",
       "    </tr>\n",
       "    <tr>\n",
       "      <th>ch</th>\n",
       "      <td>0.000000</td>\n",
       "      <td>0.024706</td>\n",
       "      <td>0.578824</td>\n",
       "      <td>0.067059</td>\n",
       "      <td>0.014118</td>\n",
       "      <td>0.034118</td>\n",
       "      <td>0.050588</td>\n",
       "      <td>0.041176</td>\n",
       "      <td>0.030588</td>\n",
       "      <td>0.014118</td>\n",
       "      <td>0.000000</td>\n",
       "      <td>0.011765</td>\n",
       "      <td>0.012941</td>\n",
       "      <td>0.043529</td>\n",
       "      <td>0.001176</td>\n",
       "      <td>0.045882</td>\n",
       "      <td>0.029412</td>\n",
       "    </tr>\n",
       "    <tr>\n",
       "      <th>d</th>\n",
       "      <td>0.000000</td>\n",
       "      <td>0.120000</td>\n",
       "      <td>0.057647</td>\n",
       "      <td>0.348235</td>\n",
       "      <td>0.011765</td>\n",
       "      <td>0.051765</td>\n",
       "      <td>0.011765</td>\n",
       "      <td>0.096471</td>\n",
       "      <td>0.024706</td>\n",
       "      <td>0.049412</td>\n",
       "      <td>0.003529</td>\n",
       "      <td>0.030588</td>\n",
       "      <td>0.009412</td>\n",
       "      <td>0.034118</td>\n",
       "      <td>0.029412</td>\n",
       "      <td>0.057647</td>\n",
       "      <td>0.063529</td>\n",
       "    </tr>\n",
       "    <tr>\n",
       "      <th>e</th>\n",
       "      <td>0.009412</td>\n",
       "      <td>0.022353</td>\n",
       "      <td>0.010588</td>\n",
       "      <td>0.055294</td>\n",
       "      <td>0.797647</td>\n",
       "      <td>0.000000</td>\n",
       "      <td>0.010588</td>\n",
       "      <td>0.016471</td>\n",
       "      <td>0.000000</td>\n",
       "      <td>0.000000</td>\n",
       "      <td>0.015294</td>\n",
       "      <td>0.000000</td>\n",
       "      <td>0.007059</td>\n",
       "      <td>0.001176</td>\n",
       "      <td>0.010588</td>\n",
       "      <td>0.010588</td>\n",
       "      <td>0.032941</td>\n",
       "    </tr>\n",
       "    <tr>\n",
       "      <th>i</th>\n",
       "      <td>0.000000</td>\n",
       "      <td>0.003529</td>\n",
       "      <td>0.040000</td>\n",
       "      <td>0.029412</td>\n",
       "      <td>0.001176</td>\n",
       "      <td>0.731765</td>\n",
       "      <td>0.003529</td>\n",
       "      <td>0.083529</td>\n",
       "      <td>0.031765</td>\n",
       "      <td>0.012941</td>\n",
       "      <td>0.000000</td>\n",
       "      <td>0.000000</td>\n",
       "      <td>0.004706</td>\n",
       "      <td>0.004706</td>\n",
       "      <td>0.000000</td>\n",
       "      <td>0.052941</td>\n",
       "      <td>0.000000</td>\n",
       "    </tr>\n",
       "    <tr>\n",
       "      <th>k</th>\n",
       "      <td>0.025735</td>\n",
       "      <td>0.036765</td>\n",
       "      <td>0.040441</td>\n",
       "      <td>0.026961</td>\n",
       "      <td>0.011029</td>\n",
       "      <td>0.004902</td>\n",
       "      <td>0.452206</td>\n",
       "      <td>0.034314</td>\n",
       "      <td>0.006127</td>\n",
       "      <td>0.026961</td>\n",
       "      <td>0.000000</td>\n",
       "      <td>0.110294</td>\n",
       "      <td>0.056373</td>\n",
       "      <td>0.004902</td>\n",
       "      <td>0.028186</td>\n",
       "      <td>0.031863</td>\n",
       "      <td>0.102941</td>\n",
       "    </tr>\n",
       "    <tr>\n",
       "      <th>l</th>\n",
       "      <td>0.000000</td>\n",
       "      <td>0.065882</td>\n",
       "      <td>0.032941</td>\n",
       "      <td>0.063529</td>\n",
       "      <td>0.010588</td>\n",
       "      <td>0.047059</td>\n",
       "      <td>0.021176</td>\n",
       "      <td>0.521176</td>\n",
       "      <td>0.054118</td>\n",
       "      <td>0.038824</td>\n",
       "      <td>0.001176</td>\n",
       "      <td>0.010588</td>\n",
       "      <td>0.007059</td>\n",
       "      <td>0.004706</td>\n",
       "      <td>0.063529</td>\n",
       "      <td>0.025882</td>\n",
       "      <td>0.031765</td>\n",
       "    </tr>\n",
       "    <tr>\n",
       "      <th>m</th>\n",
       "      <td>0.000000</td>\n",
       "      <td>0.027059</td>\n",
       "      <td>0.021176</td>\n",
       "      <td>0.011765</td>\n",
       "      <td>0.000000</td>\n",
       "      <td>0.021176</td>\n",
       "      <td>0.002353</td>\n",
       "      <td>0.011765</td>\n",
       "      <td>0.688235</td>\n",
       "      <td>0.118824</td>\n",
       "      <td>0.000000</td>\n",
       "      <td>0.001176</td>\n",
       "      <td>0.000000</td>\n",
       "      <td>0.023529</td>\n",
       "      <td>0.001176</td>\n",
       "      <td>0.067059</td>\n",
       "      <td>0.004706</td>\n",
       "    </tr>\n",
       "    <tr>\n",
       "      <th>n</th>\n",
       "      <td>0.000000</td>\n",
       "      <td>0.040000</td>\n",
       "      <td>0.009412</td>\n",
       "      <td>0.032941</td>\n",
       "      <td>0.005882</td>\n",
       "      <td>0.008235</td>\n",
       "      <td>0.009412</td>\n",
       "      <td>0.008235</td>\n",
       "      <td>0.050588</td>\n",
       "      <td>0.715294</td>\n",
       "      <td>0.000000</td>\n",
       "      <td>0.005882</td>\n",
       "      <td>0.008235</td>\n",
       "      <td>0.016471</td>\n",
       "      <td>0.021176</td>\n",
       "      <td>0.051765</td>\n",
       "      <td>0.016471</td>\n",
       "    </tr>\n",
       "    <tr>\n",
       "      <th>o</th>\n",
       "      <td>0.003529</td>\n",
       "      <td>0.011765</td>\n",
       "      <td>0.001176</td>\n",
       "      <td>0.005882</td>\n",
       "      <td>0.010588</td>\n",
       "      <td>0.000000</td>\n",
       "      <td>0.002353</td>\n",
       "      <td>0.012941</td>\n",
       "      <td>0.000000</td>\n",
       "      <td>0.000000</td>\n",
       "      <td>0.901176</td>\n",
       "      <td>0.015294</td>\n",
       "      <td>0.009412</td>\n",
       "      <td>0.000000</td>\n",
       "      <td>0.002353</td>\n",
       "      <td>0.000000</td>\n",
       "      <td>0.023529</td>\n",
       "    </tr>\n",
       "    <tr>\n",
       "      <th>p</th>\n",
       "      <td>0.002353</td>\n",
       "      <td>0.090588</td>\n",
       "      <td>0.010588</td>\n",
       "      <td>0.065882</td>\n",
       "      <td>0.011765</td>\n",
       "      <td>0.002353</td>\n",
       "      <td>0.057647</td>\n",
       "      <td>0.007059</td>\n",
       "      <td>0.002353</td>\n",
       "      <td>0.015294</td>\n",
       "      <td>0.034118</td>\n",
       "      <td>0.537647</td>\n",
       "      <td>0.056471</td>\n",
       "      <td>0.011765</td>\n",
       "      <td>0.009412</td>\n",
       "      <td>0.010588</td>\n",
       "      <td>0.074118</td>\n",
       "    </tr>\n",
       "    <tr>\n",
       "      <th>r</th>\n",
       "      <td>0.000000</td>\n",
       "      <td>0.032941</td>\n",
       "      <td>0.008235</td>\n",
       "      <td>0.017647</td>\n",
       "      <td>0.000000</td>\n",
       "      <td>0.005882</td>\n",
       "      <td>0.028235</td>\n",
       "      <td>0.030588</td>\n",
       "      <td>0.011765</td>\n",
       "      <td>0.001176</td>\n",
       "      <td>0.000000</td>\n",
       "      <td>0.075294</td>\n",
       "      <td>0.709412</td>\n",
       "      <td>0.003529</td>\n",
       "      <td>0.003529</td>\n",
       "      <td>0.010588</td>\n",
       "      <td>0.061176</td>\n",
       "    </tr>\n",
       "    <tr>\n",
       "      <th>s</th>\n",
       "      <td>0.000000</td>\n",
       "      <td>0.031765</td>\n",
       "      <td>0.015294</td>\n",
       "      <td>0.055294</td>\n",
       "      <td>0.000000</td>\n",
       "      <td>0.000000</td>\n",
       "      <td>0.012941</td>\n",
       "      <td>0.008235</td>\n",
       "      <td>0.016471</td>\n",
       "      <td>0.045882</td>\n",
       "      <td>0.000000</td>\n",
       "      <td>0.011765</td>\n",
       "      <td>0.003529</td>\n",
       "      <td>0.770588</td>\n",
       "      <td>0.000000</td>\n",
       "      <td>0.011765</td>\n",
       "      <td>0.016471</td>\n",
       "    </tr>\n",
       "    <tr>\n",
       "      <th>u</th>\n",
       "      <td>0.000000</td>\n",
       "      <td>0.029412</td>\n",
       "      <td>0.018824</td>\n",
       "      <td>0.011765</td>\n",
       "      <td>0.004706</td>\n",
       "      <td>0.001176</td>\n",
       "      <td>0.012941</td>\n",
       "      <td>0.034118</td>\n",
       "      <td>0.004706</td>\n",
       "      <td>0.037647</td>\n",
       "      <td>0.018824</td>\n",
       "      <td>0.010588</td>\n",
       "      <td>0.000000</td>\n",
       "      <td>0.000000</td>\n",
       "      <td>0.789412</td>\n",
       "      <td>0.010588</td>\n",
       "      <td>0.015294</td>\n",
       "    </tr>\n",
       "    <tr>\n",
       "      <th>ñ</th>\n",
       "      <td>0.000000</td>\n",
       "      <td>0.021176</td>\n",
       "      <td>0.036471</td>\n",
       "      <td>0.015294</td>\n",
       "      <td>0.000000</td>\n",
       "      <td>0.030588</td>\n",
       "      <td>0.010588</td>\n",
       "      <td>0.041176</td>\n",
       "      <td>0.065882</td>\n",
       "      <td>0.111765</td>\n",
       "      <td>0.001176</td>\n",
       "      <td>0.024706</td>\n",
       "      <td>0.036471</td>\n",
       "      <td>0.004706</td>\n",
       "      <td>0.008235</td>\n",
       "      <td>0.561176</td>\n",
       "      <td>0.030588</td>\n",
       "    </tr>\n",
       "    <tr>\n",
       "      <th>θ</th>\n",
       "      <td>0.000000</td>\n",
       "      <td>0.077647</td>\n",
       "      <td>0.035294</td>\n",
       "      <td>0.060000</td>\n",
       "      <td>0.021176</td>\n",
       "      <td>0.002353</td>\n",
       "      <td>0.074118</td>\n",
       "      <td>0.084706</td>\n",
       "      <td>0.000000</td>\n",
       "      <td>0.011765</td>\n",
       "      <td>0.037647</td>\n",
       "      <td>0.072941</td>\n",
       "      <td>0.047059</td>\n",
       "      <td>0.008235</td>\n",
       "      <td>0.021176</td>\n",
       "      <td>0.029412</td>\n",
       "      <td>0.416471</td>\n",
       "    </tr>\n",
       "  </tbody>\n",
       "</table>\n",
       "</div>"
      ],
      "text/plain": [
       "                a         b        ch         d         e         i         k  \\\n",
       "phoneme                                                                         \n",
       "a        0.972941  0.000000  0.001176  0.000000  0.000000  0.000000  0.004706   \n",
       "b        0.000000  0.403529  0.024706  0.125882  0.025882  0.012941  0.022353   \n",
       "ch       0.000000  0.024706  0.578824  0.067059  0.014118  0.034118  0.050588   \n",
       "d        0.000000  0.120000  0.057647  0.348235  0.011765  0.051765  0.011765   \n",
       "e        0.009412  0.022353  0.010588  0.055294  0.797647  0.000000  0.010588   \n",
       "i        0.000000  0.003529  0.040000  0.029412  0.001176  0.731765  0.003529   \n",
       "k        0.025735  0.036765  0.040441  0.026961  0.011029  0.004902  0.452206   \n",
       "l        0.000000  0.065882  0.032941  0.063529  0.010588  0.047059  0.021176   \n",
       "m        0.000000  0.027059  0.021176  0.011765  0.000000  0.021176  0.002353   \n",
       "n        0.000000  0.040000  0.009412  0.032941  0.005882  0.008235  0.009412   \n",
       "o        0.003529  0.011765  0.001176  0.005882  0.010588  0.000000  0.002353   \n",
       "p        0.002353  0.090588  0.010588  0.065882  0.011765  0.002353  0.057647   \n",
       "r        0.000000  0.032941  0.008235  0.017647  0.000000  0.005882  0.028235   \n",
       "s        0.000000  0.031765  0.015294  0.055294  0.000000  0.000000  0.012941   \n",
       "u        0.000000  0.029412  0.018824  0.011765  0.004706  0.001176  0.012941   \n",
       "ñ        0.000000  0.021176  0.036471  0.015294  0.000000  0.030588  0.010588   \n",
       "θ        0.000000  0.077647  0.035294  0.060000  0.021176  0.002353  0.074118   \n",
       "\n",
       "                l         m         n         o         p         r         s  \\\n",
       "phoneme                                                                         \n",
       "a        0.002353  0.000000  0.000000  0.000000  0.001176  0.001176  0.000000   \n",
       "b        0.074118  0.025882  0.031765  0.014118  0.041176  0.040000  0.016471   \n",
       "ch       0.041176  0.030588  0.014118  0.000000  0.011765  0.012941  0.043529   \n",
       "d        0.096471  0.024706  0.049412  0.003529  0.030588  0.009412  0.034118   \n",
       "e        0.016471  0.000000  0.000000  0.015294  0.000000  0.007059  0.001176   \n",
       "i        0.083529  0.031765  0.012941  0.000000  0.000000  0.004706  0.004706   \n",
       "k        0.034314  0.006127  0.026961  0.000000  0.110294  0.056373  0.004902   \n",
       "l        0.521176  0.054118  0.038824  0.001176  0.010588  0.007059  0.004706   \n",
       "m        0.011765  0.688235  0.118824  0.000000  0.001176  0.000000  0.023529   \n",
       "n        0.008235  0.050588  0.715294  0.000000  0.005882  0.008235  0.016471   \n",
       "o        0.012941  0.000000  0.000000  0.901176  0.015294  0.009412  0.000000   \n",
       "p        0.007059  0.002353  0.015294  0.034118  0.537647  0.056471  0.011765   \n",
       "r        0.030588  0.011765  0.001176  0.000000  0.075294  0.709412  0.003529   \n",
       "s        0.008235  0.016471  0.045882  0.000000  0.011765  0.003529  0.770588   \n",
       "u        0.034118  0.004706  0.037647  0.018824  0.010588  0.000000  0.000000   \n",
       "ñ        0.041176  0.065882  0.111765  0.001176  0.024706  0.036471  0.004706   \n",
       "θ        0.084706  0.000000  0.011765  0.037647  0.072941  0.047059  0.008235   \n",
       "\n",
       "                u         ñ         θ  \n",
       "phoneme                                \n",
       "a        0.010588  0.000000  0.005882  \n",
       "b        0.008235  0.011765  0.121176  \n",
       "ch       0.001176  0.045882  0.029412  \n",
       "d        0.029412  0.057647  0.063529  \n",
       "e        0.010588  0.010588  0.032941  \n",
       "i        0.000000  0.052941  0.000000  \n",
       "k        0.028186  0.031863  0.102941  \n",
       "l        0.063529  0.025882  0.031765  \n",
       "m        0.001176  0.067059  0.004706  \n",
       "n        0.021176  0.051765  0.016471  \n",
       "o        0.002353  0.000000  0.023529  \n",
       "p        0.009412  0.010588  0.074118  \n",
       "r        0.003529  0.010588  0.061176  \n",
       "s        0.000000  0.011765  0.016471  \n",
       "u        0.789412  0.010588  0.015294  \n",
       "ñ        0.008235  0.561176  0.030588  \n",
       "θ        0.021176  0.029412  0.416471  "
      ]
     },
     "execution_count": 144,
     "metadata": {},
     "output_type": "execute_result"
    }
   ],
   "source": [
    "get_matrix(17)"
   ]
  },
  {
   "cell_type": "code",
   "execution_count": 145,
   "id": "3370f41c",
   "metadata": {
    "scrolled": false
   },
   "outputs": [
    {
     "data": {
      "image/png": "[encoded data removed]",
      "text/plain": [
       "<Figure size 432x288 with 2 Axes>"
      ]
     },
     "metadata": {
      "needs_background": "light"
     },
     "output_type": "display_data"
    },
    {
     "data": {
      "image/png": "[encoded data removed]",
      "text/plain": [
       "<Figure size 432x288 with 2 Axes>"
      ]
     },
     "metadata": {
      "needs_background": "light"
     },
     "output_type": "display_data"
    },
    {
     "data": {
      "image/png": "[encoded data removed]",
      "text/plain": [
       "<Figure size 432x288 with 2 Axes>"
      ]
     },
     "metadata": {
      "needs_background": "light"
     },
     "output_type": "display_data"
    },
    {
     "data": {
      "image/png": "[encoded data removed]",
      "text/plain": [
       "<Figure size 432x288 with 2 Axes>"
      ]
     },
     "metadata": {
      "needs_background": "light"
     },
     "output_type": "display_data"
    }
   ],
   "source": [
    "for k in [2,6,12,17]:\n",
    "    df = get_matrix(k)\n",
    "    plt.figure()\n",
    "    sns.heatmap(df).set_title(f\"KNN: {k}\")\n",
    "    plt.plot()"
   ]
  },
  {
   "cell_type": "code",
   "execution_count": null,
   "id": "95b65ab0",
   "metadata": {},
   "outputs": [],
   "source": []
  }
 ],
 "metadata": {
  "kernelspec": {
   "display_name": "Python 3",
   "language": "python",
   "name": "python3"
  },
  "language_info": {
   "codemirror_mode": {
    "name": "ipython",
    "version": 3
   },
   "file_extension": ".py",
   "mimetype": "text/x-python",
   "name": "python",
   "nbconvert_exporter": "python",
   "pygments_lexer": "ipython3",
   "version": "3.9.2"
  }
 },
 "nbformat": 4,
 "nbformat_minor": 5
}
